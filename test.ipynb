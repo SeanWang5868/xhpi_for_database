{
 "cells": [
  {
   "cell_type": "code",
   "execution_count": 1,
   "id": "c2d8601f",
   "metadata": {},
   "outputs": [
    {
     "name": "stdout",
     "output_type": "stream",
     "text": [
      "Requirement already satisfied: gemmi in /y/people/bql506/miniconda3/envs/xhpi_env/lib/python3.11/site-packages (0.7.3)\n",
      "Note: you may need to restart the kernel to use updated packages.\n"
     ]
    }
   ],
   "source": [
    "pip install --upgrade gemmi\n"
   ]
  },
  {
   "cell_type": "code",
   "execution_count": 4,
   "id": "bbfa8994",
   "metadata": {},
   "outputs": [
    {
     "name": "stdout",
     "output_type": "stream",
     "text": [
      "CC     CC    HH   HH             PPPPPPP    II  \n",
      " CC   CC     HH   HH             PP   PP    II \n",
      "  NN NN      HH   HH     York    PP   PP    II \n",
      "   NN        HHHHHHH    ------   PPPPPPP    II \n",
      "  OO OO      HH   HH             PP         II \n",
      " OO   OO     HH   HH             PP         II \n",
      "SS     SS    HH   HH             PP         II \n"
     ]
    }
   ],
   "source": [
    "import os\n",
    "import sys\n",
    "import pandas as pd\n",
    "import gzip\n",
    "import gemmi\n",
    "import config\n",
    "from tqdm import tqdm\n",
    "from datetime import datetime\n",
    "import wget\n",
    "from calculate import printer,detect_plevin\n",
    "from addH import addH\n",
    "\n",
    "ring_atoms_dict = {\n",
    "    'TRP': ['CD2', 'CE2', 'CE3', 'CZ2', 'CZ3', 'CH2'],\n",
    "    'TYR': ['CD1', 'CD2', 'CE1', 'CE2', 'CZ', 'CG'],\n",
    "    'PHE': ['CD1', 'CD2', 'CE1', 'CE2', 'CZ', 'CG'],\n",
    "    'HIS': ['CE1', 'ND1', 'NE2', 'CG', 'CD2']}\n",
    "trp_A_dict = {\n",
    "    'TRP': ['CD1', 'CD2', 'NE1', 'CG', 'CE2']}\n",
    "printer.print_xhpi()"
   ]
  },
  {
   "cell_type": "code",
   "execution_count": 5,
   "id": "1937c4a0",
   "metadata": {},
   "outputs": [
    {
     "data": {
      "text/plain": [
       "[]"
      ]
     },
     "execution_count": 5,
     "metadata": {},
     "output_type": "execute_result"
    }
   ],
   "source": [
    "input_directory = \"/y/people/bql506/pdb_test/pdb_test_Hadded/1a\"\n",
    "\n",
    "gz_files = []\n",
    "for dirpath, _, filenames in os.walk(input_directory):\n",
    "    for filename in filenames:\n",
    "        if filename.endswith(\".cif.gz\"):\n",
    "            # 将文件的完整路径添加到列表中\n",
    "            gz_files.append(os.path.join(dirpath, filename))\n",
    "gz_files"
   ]
  },
  {
   "cell_type": "code",
   "execution_count": 28,
   "id": "f53e271e",
   "metadata": {},
   "outputs": [
    {
     "name": "stderr",
     "output_type": "stream",
     "text": [
      "Processing files: 100%|██████████| 10/10 [00:00<00:00, 10.94it/s]"
     ]
    },
    {
     "name": "stdout",
     "output_type": "stream",
     "text": [
      "Detected 205 XH-π interactions in total.\n",
      "The result has been saved to /y/people/bql506/pdb_test/pdb_test_Hadded/xhpi_output.csv\n"
     ]
    },
    {
     "name": "stderr",
     "output_type": "stream",
     "text": [
      "\n"
     ]
    }
   ],
   "source": [
    "result = []\n",
    "\n",
    "with tqdm(total=len(gz_files), desc=\"Processing files\") as pbar:\n",
    "    for filepath in gz_files:\n",
    "        try:\n",
    "            pdb_name = os.path.basename(filepath).replace('.cif.gz', '')\n",
    "\n",
    "            # Read the gzipped CIF file\n",
    "            with gzip.open(filepath, 'rb') as file:\n",
    "                uncompressed_content = file.read().decode('utf-8')\n",
    "                cif = gemmi.cif.read_string(uncompressed_content).sole_block()\n",
    "                structure = gemmi.make_structure_from_block(cif)\n",
    "                resolution = structure.resolution\n",
    "                model = structure[0]\n",
    "\n",
    "                for chain in model:\n",
    "                    for residue in chain:\n",
    "                        \n",
    "                        if residue.name in ring_atoms_dict:\n",
    "                            found_interactions = detect_plevin.detect_plevin(\n",
    "                                pdb_name, resolution, model, chain, structure, residue, ring_atoms_dict)\n",
    "                            result.extend(found_interactions)\n",
    "\n",
    "                        if residue.name in trp_A_dict:\n",
    "                            found_interactions = detect_plevin.detect_plevin(\n",
    "                                pdb_name, resolution, model, chain, structure, residue, trp_A_dict)\n",
    "                            result.extend(found_interactions)\n",
    "\n",
    "        except Exception as e:\n",
    "            print(f\"Error processing file {filepath}: {e}\")\n",
    "\n",
    "        finally:\n",
    "            pbar.update(1)\n",
    "\n",
    "print(f\"Detected {len(result)} XH-π interactions in total.\")\n",
    "\n",
    "# Save the calculation results to a CSV file\n",
    "if result: # Only save if results were found\n",
    "    df = pd.DataFrame(result)\n",
    "    output_path = os.path.join(input_directory, 'xhpi_output.csv')\n",
    "    df.to_csv(output_path, index=False)\n",
    "    print(f'The result has been saved to {output_path}')\n",
    "else:\n",
    "    print(\"No interactions were found to save.\")"
   ]
  }
 ],
 "metadata": {
  "kernelspec": {
   "display_name": "xhpi_env",
   "language": "python",
   "name": "python3"
  },
  "language_info": {
   "codemirror_mode": {
    "name": "ipython",
    "version": 3
   },
   "file_extension": ".py",
   "mimetype": "text/x-python",
   "name": "python",
   "nbconvert_exporter": "python",
   "pygments_lexer": "ipython3",
   "version": "3.11.13"
  }
 },
 "nbformat": 4,
 "nbformat_minor": 5
}
